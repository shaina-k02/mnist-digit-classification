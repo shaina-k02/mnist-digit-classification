# MNIST Digit Classification

This notebook provides an interactive way to explore and classify handwritten digits using a neural network built with TensorFlow and Keras.

## Data Loading and Preprocessing

First, we load the MNIST dataset and preprocess it by normalizing the pixel values to be in the range [0, 1].

```python
import tensorflow as tf
from tensorflow.keras.datasets import mnist
import matplotlib.pyplot as plt

# Load MNIST dataset
(x_train, y_train), (x_test, y_test) = mnist.load_data()

# Normalize the data to be in the range [0, 1]
x_train = tf.keras.utils.normalize(x_train, axis=1)
x_test = tf.keras.utils.normalize(x_test, axis=1)

# Function to draw an image
def draw(n):
    plt.imshow(n, cmap=plt.cm.binary)
    plt.show()

# Draw the first image in the training set
draw(x_train[0])
