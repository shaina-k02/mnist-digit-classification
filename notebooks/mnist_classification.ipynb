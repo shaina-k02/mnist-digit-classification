{
 "cells": [
  {
   "cell_type": "markdown",
   "id": "c4e0ee7a-a84c-43ad-8cbe-5f892009466c",
   "metadata": {},
   "source": [
    "<head> <b> <big> <big> NIST Digit Classification </big> </big> </b> </head> \n",
    "<br>\n",
    "<br>\n",
    "\n",
    "This notebook provides an interactive way to explore and classify handwritten digits using a neural network built with TensorFlow and Keras."
   ]
  },
  {
   "cell_type": "markdown",
   "id": "9d8b7e5b-125d-4a90-909b-51baaf259269",
   "metadata": {},
   "source": [
    "1. **Data Loading and Preprocessing**:\n",
    "   - **Loading Data**: Load the MNIST dataset using `mnist.load_data()`.\n",
    "   - **Normalization**: Normalize the pixel values of the images to the range [0, 1] using `tf.keras.utils.normalize`.\n",
    "   - **Drawing Images**: Define a function `draw(n)` to visualize an image and demonstrate it with the first image in the training set."
   ]
  },
  {
   "cell_type": "code",
   "execution_count": null,
   "id": "12e403eb-2732-4322-bee6-35e2bafee41d",
   "metadata": {},
   "outputs": [],
   "source": [
    "## Data Loading and Preprocessing\n",
    "\n",
    "First, we load the MNIST dataset and preprocess it by normalizing the pixel values to be in the range [0, 1].\n",
    "\n",
    "```python\n",
    "import tensorflow as tf\n",
    "from tensorflow.keras.datasets import mnist\n",
    "import matplotlib.pyplot as plt\n",
    "\n",
    "# Load MNIST dataset\n",
    "(x_train, y_train), (x_test, y_test) = mnist.load_data()\n",
    "\n",
    "# Normalize the data to be in the range [0, 1]\n",
    "x_train = tf.keras.utils.normalize(x_train, axis=1)\n",
    "x_test = tf.keras.utils.normalize(x_test, axis=1)\n",
    "\n",
    "# Function to draw an image\n",
    "def draw(n):\n",
    "    plt.imshow(n, cmap=plt.cm.binary)\n",
    "    plt.show()\n",
    "\n",
    "# Draw the first image in the training set\n",
    "draw(x_train[0])\n"
   ]
  },
  {
   "cell_type": "markdown",
   "id": "cddeb4b6-0ad9-48f2-b8d8-63001a03edb9",
   "metadata": {},
   "source": [
    "2. **Model Building and Training**:\n",
    "   - **Building the Model**: Use `tf.keras.Sequential` to build a neural network model consisting of convolutional layers, max-pooling layers, a flatten layer, and dense layers.\n",
    "   - **Compiling the Model**: Compile the model using the Adam optimizer, sparse categorical crossentropy loss, and accuracy as the evaluation metric.\n",
    "   - **Training the Model**: Train the model on the training data for 3 epochs using `model.fit`."
   ]
  },
  {
   "cell_type": "code",
   "execution_count": null,
   "id": "a5b8873e-c3e0-46d6-b651-1f1b5a7ce311",
   "metadata": {},
   "outputs": [],
   "source": [
    "#Model building and Training\n",
    "\n",
    "from tensorflow.keras.models import Sequential\n",
    "from tensorflow.keras.layers import Dense, Flatten, Conv2D, MaxPooling2D\n",
    "\n",
    "# Build the model\n",
    "model = Sequential([\n",
    "    Conv2D(32, kernel_size=(3, 3), activation='relu', input_shape=(28, 28, 1)),\n",
    "    MaxPooling2D(pool_size=(2, 2)),\n",
    "    Conv2D(64, kernel_size=(3, 3), activation='relu'),\n",
    "    MaxPooling2D(pool_size=(2, 2)),\n",
    "    Flatten(),\n",
    "    Dense(128, activation='relu'),\n",
    "    Dense(10, activation='softmax')\n",
    "])\n",
    "\n",
    "# Compile the model with the Adam optimizer, sparse categorical crossentropy loss, and accuracy as the metric\n",
    "model.compile(optimizer='adam',\n",
    "              loss='sparse_categorical_crossentropy',\n",
    "              metrics=['accuracy'])\n",
    "\n",
    "# Train the model on the training data for 3 epochs\n",
    "model.fit(x_train, y_train, epochs=3)\n"
   ]
  },
  {
   "cell_type": "markdown",
   "id": "e83f23cc-db43-4bd7-a2f2-371595beb865",
   "metadata": {},
   "source": [
    "3. **Model Evaluation**:\n",
    "   - **Evaluating the Model**: Evaluate the model's performance on the test data using `model.evaluate` and print the loss and accuracy."
   ]
  },
  {
   "cell_type": "code",
   "execution_count": null,
   "id": "e0a0739d-a531-4b38-8cd9-33815c4a7422",
   "metadata": {},
   "outputs": [],
   "source": [
    " # Evaluate the model on the test data\n",
    "val_loss, val_acc = model.evaluate(x_test, y_test)\n",
    "print(\"Loss: \", val_loss)\n",
    "print(\"Accuracy: \", val_acc)"
   ]
  },
  {
   "cell_type": "markdown",
   "id": "53453885-af89-455c-8823-15f7f59e99e6",
   "metadata": {},
   "source": [
    "4. **Save and Load the Model**:\n",
    "   - **Saving the Model**: Save the trained model to a file using `model.save`.\n",
    "   - **Loading the Model**: Load the saved model using `tf.keras.models.load_model` and re-evaluate it to ensure it was saved and loaded correctly.\n"
   ]
  },
  {
   "cell_type": "code",
   "execution_count": null,
   "id": "141bfdca-4dba-491c-945d-2c627061af37",
   "metadata": {},
   "outputs": [],
   "source": [
    "# Save the model to a file in the models directory\n",
    "model.save('../models/epic_num_reader.keras')\n",
    "\n",
    "# Load the model from the file\n",
    "new_model = tf.keras.models.load_model('../models/epic_num_reader.keras')\n",
    "\n",
    "# Evaluate the loaded model to ensure it was saved and loaded correctly\n",
    "new_model.evaluate(x_test, y_test)\n"
   ]
  },
  {
   "cell_type": "markdown",
   "id": "e8899a57-a982-4fe8-b646-0caab85528a1",
   "metadata": {},
   "source": [
    "5. **Make Predictions**:\n",
    "   - **Making Predictions**: Use the trained model to make predictions on the test data using `model.predict`.\n",
    "   - **Displaying Results**: Print the true label and predicted label for a specific test image and visualize the corresponding image using the `draw` function."
   ]
  },
  {
   "cell_type": "code",
   "execution_count": null,
   "id": "6304c4fe-5a57-44de-a9a6-e2d39a9e9fe7",
   "metadata": {},
   "outputs": [],
   "source": [
    "# Make predictions on the test data\n",
    "predictions = new_model.predict(x_test)\n",
    "\n",
    "# Print the true label and the predicted label for a specific test image\n",
    "print('True Label: ', y_test[2])\n",
    "print('Predicted Label: ', np.argmax(predictions[2]))\n",
    "\n",
    "# Draw the corresponding image\n",
    "draw(x_test[2])\n"
   ]
  }
 ],
 "metadata": {
  "kernelspec": {
   "display_name": "Python 3 (ipykernel)",
   "language": "python",
   "name": "python3"
  },
  "language_info": {
   "codemirror_mode": {
    "name": "ipython",
    "version": 3
   },
   "file_extension": ".py",
   "mimetype": "text/x-python",
   "name": "python",
   "nbconvert_exporter": "python",
   "pygments_lexer": "ipython3",
   "version": "3.11.7"
  }
 },
 "nbformat": 4,
 "nbformat_minor": 5
}
